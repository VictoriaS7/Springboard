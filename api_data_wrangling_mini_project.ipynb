{
 "cells": [
  {
   "cell_type": "markdown",
   "metadata": {},
   "source": [
    "This exercise will require you to pull some data from the Qunadl API. Qaundl is currently the most widely used aggregator of financial market data."
   ]
  },
  {
   "cell_type": "markdown",
   "metadata": {},
   "source": [
    "As a first step, you will need to register a free account on the http://www.quandl.com website."
   ]
  },
  {
   "cell_type": "markdown",
   "metadata": {},
   "source": [
    "After you register, you will be provided with a unique API key, that you should store:"
   ]
  },
  {
   "cell_type": "code",
   "execution_count": 1,
   "metadata": {},
   "outputs": [],
   "source": [
    "# Store the API key as a string - according to PEP8, constants are always named in all upper case\n",
    "API_KEY = 'myAPIkey'"
   ]
  },
  {
   "cell_type": "markdown",
   "metadata": {},
   "source": [
    "Qaundl has a large number of data sources, but, unfortunately, most of them require a Premium subscription. Still, there are also a good number of free datasets."
   ]
  },
  {
   "cell_type": "markdown",
   "metadata": {},
   "source": [
    "For this mini project, we will focus on equities data from the Frankfurt Stock Exhange (FSE), which is available for free. We'll try and analyze the stock prices of a company called Carl Zeiss Meditec, which manufactures tools for eye examinations, as well as medical lasers for laser eye surgery: https://www.zeiss.com/meditec/int/home.html. The company is listed under the stock ticker AFX_X."
   ]
  },
  {
   "cell_type": "markdown",
   "metadata": {},
   "source": [
    "You can find the detailed Quandl API instructions here: https://docs.quandl.com/docs/time-series"
   ]
  },
  {
   "cell_type": "markdown",
   "metadata": {},
   "source": [
    "While there is a dedicated Python package for connecting to the Quandl API, we would prefer that you use the *requests* package, which can be easily downloaded using *pip* or *conda*. You can find the documentation for the package here: http://docs.python-requests.org/en/master/ "
   ]
  },
  {
   "cell_type": "markdown",
   "metadata": {},
   "source": [
    "Finally, apart from the *requests* package, you are encouraged to not use any third party Python packages, such as *pandas*, and instead focus on what's available in the Python Standard Library (the *collections* module might come in handy: https://pymotw.com/3/collections/ ).\n",
    "Also, since you won't have access to DataFrames, you are encouraged to us Python's native data structures - preferably dictionaries, though some questions can also be answered using lists.\n",
    "You can read more on these data structures here: https://docs.python.org/3/tutorial/datastructures.html"
   ]
  },
  {
   "cell_type": "markdown",
   "metadata": {},
   "source": [
    "Keep in mind that the JSON responses you will be getting from the API map almost one-to-one to Python's dictionaries. Unfortunately, they can be very nested, so make sure you read up on indexing dictionaries in the documentation provided above."
   ]
  },
  {
   "cell_type": "code",
   "execution_count": 184,
   "metadata": {},
   "outputs": [],
   "source": [
    "# First, import the relevant modules\n",
    "import requests\n",
    "import collections\n",
    "import json"
   ]
  },
  {
   "cell_type": "code",
   "execution_count": 185,
   "metadata": {},
   "outputs": [],
   "source": [
    "# Now, call the Quandl API and pull out a small sample of the data (only one day) to get a glimpse\n",
    "# into the JSON structure that will be returned\n",
    "params = {'start_date': '2019-12-30', 'end_date': '2019-12-30', 'api_key': API_KEY}\n",
    "r = requests.get('https://www.quandl.com/api/v3/datasets/FSE/AFX_X/data.json', params=params)"
   ]
  },
  {
   "cell_type": "code",
   "execution_count": 186,
   "metadata": {},
   "outputs": [
    {
     "data": {
      "text/plain": [
       "{'dataset_data': {'limit': None,\n",
       "  'transform': None,\n",
       "  'column_index': None,\n",
       "  'column_names': ['Date',\n",
       "   'Open',\n",
       "   'High',\n",
       "   'Low',\n",
       "   'Close',\n",
       "   'Change',\n",
       "   'Traded Volume',\n",
       "   'Turnover',\n",
       "   'Last Price of the Day',\n",
       "   'Daily Traded Units',\n",
       "   'Daily Turnover'],\n",
       "  'start_date': '2019-12-30',\n",
       "  'end_date': '2019-12-30',\n",
       "  'frequency': 'daily',\n",
       "  'data': [['2019-12-30',\n",
       "    116.4,\n",
       "    116.5,\n",
       "    113.7,\n",
       "    113.7,\n",
       "    None,\n",
       "    60915.0,\n",
       "    6979033.0,\n",
       "    None,\n",
       "    None,\n",
       "    None]],\n",
       "  'collapse': None,\n",
       "  'order': None}}"
      ]
     },
     "execution_count": 186,
     "metadata": {},
     "output_type": "execute_result"
    }
   ],
   "source": [
    "# Inspect the JSON structure of the object you created, and take note of how nested it is,\n",
    "# as well as the overall structure\n",
    "r.json()"
   ]
  },
  {
   "cell_type": "markdown",
   "metadata": {},
   "source": [
    "These are your tasks for this mini project:\n",
    "\n",
    "1. Collect data from the Franfurt Stock Exchange, for the ticker AFX_X, for the whole year 2017 (keep in mind that the date format is YYYY-MM-DD).\n",
    "2. Convert the returned JSON object into a Python dictionary.\n",
    "3. Calculate what the highest and lowest opening prices were for the stock in this period.\n",
    "4. What was the largest change in any one day (based on High and Low price)?\n",
    "5. What was the largest change between any two days (based on Closing Price)?\n",
    "6. What was the average daily trading volume during this year?\n",
    "7. (Optional) What was the median trading volume during this year. (Note: you may need to implement your own function for calculating the median.)"
   ]
  },
  {
   "cell_type": "code",
   "execution_count": 187,
   "metadata": {},
   "outputs": [],
   "source": [
    "params2017 = {'start_date': '2017-01-01', 'end_date': '2017-12-31', 'api_key': API_KEY}\n",
    "r = requests.get('https://www.quandl.com/api/v3/datasets/FSE/AFX_X/data.json', params=params2017)"
   ]
  },
  {
   "cell_type": "code",
   "execution_count": 188,
   "metadata": {},
   "outputs": [],
   "source": [
    "d = r.json()"
   ]
  },
  {
   "cell_type": "code",
   "execution_count": 189,
   "metadata": {},
   "outputs": [
    {
     "data": {
      "text/plain": [
       "dict"
      ]
     },
     "execution_count": 189,
     "metadata": {},
     "output_type": "execute_result"
    }
   ],
   "source": [
    "type(d)"
   ]
  },
  {
   "cell_type": "code",
   "execution_count": 190,
   "metadata": {},
   "outputs": [
    {
     "data": {
      "text/plain": [
       "['Date',\n",
       " 'Open',\n",
       " 'High',\n",
       " 'Low',\n",
       " 'Close',\n",
       " 'Change',\n",
       " 'Traded_Volume',\n",
       " 'Turnover',\n",
       " 'Last_Price_of_the_Day',\n",
       " 'Daily_Traded_Units',\n",
       " 'Daily_Turnover']"
      ]
     },
     "execution_count": 190,
     "metadata": {},
     "output_type": "execute_result"
    }
   ],
   "source": [
    "columns = d['dataset_data']['column_names']\n",
    "columns = ['_'.join(item.split()) for item in columns]\n",
    "columns"
   ]
  },
  {
   "cell_type": "code",
   "execution_count": 191,
   "metadata": {},
   "outputs": [
    {
     "name": "stdout",
     "output_type": "stream",
     "text": [
      "[['2017-12-29', 51.76, 51.94, 51.45, 51.76, None, 34640.0, 1792304.0, None, None, None], ['2017-12-28', 51.65, 51.82, 51.43, 51.6, None, 40660.0, 2099024.0, None, None, None], ['2017-12-27', 51.45, 51.89, 50.76, 51.82, None, 57452.0, 2957018.0, None, None, None]]\n"
     ]
    }
   ],
   "source": [
    "values = d['dataset_data']['data']\n",
    "print(values[0:3])"
   ]
  },
  {
   "cell_type": "code",
   "execution_count": 192,
   "metadata": {},
   "outputs": [
    {
     "data": {
      "text/plain": [
       "[Stock(Date='2017-12-29', Open=51.76, High=51.94, Low=51.45, Close=51.76, Change=None, Traded_Volume=34640.0, Turnover=1792304.0, Last_Price_of_the_Day=None, Daily_Traded_Units=None, Daily_Turnover=None),\n",
       " Stock(Date='2017-12-28', Open=51.65, High=51.82, Low=51.43, Close=51.6, Change=None, Traded_Volume=40660.0, Turnover=2099024.0, Last_Price_of_the_Day=None, Daily_Traded_Units=None, Daily_Turnover=None),\n",
       " Stock(Date='2017-12-27', Open=51.45, High=51.89, Low=50.76, Close=51.82, Change=None, Traded_Volume=57452.0, Turnover=2957018.0, Last_Price_of_the_Day=None, Daily_Traded_Units=None, Daily_Turnover=None),\n",
       " Stock(Date='2017-12-22', Open=51.05, High=51.5, Low=50.92, Close=51.32, Change=None, Traded_Volume=71165.0, Turnover=3641949.0, Last_Price_of_the_Day=None, Daily_Traded_Units=None, Daily_Turnover=None),\n",
       " Stock(Date='2017-12-21', Open=51.16, High=51.52, Low=50.9, Close=51.4, Change=None, Traded_Volume=120649.0, Turnover=6179433.0, Last_Price_of_the_Day=None, Daily_Traded_Units=None, Daily_Turnover=None),\n",
       " Stock(Date='2017-12-20', Open=51.88, High=52.04, Low=51.2, Close=51.27, Change=None, Traded_Volume=50587.0, Turnover=2610258.0, Last_Price_of_the_Day=None, Daily_Traded_Units=None, Daily_Turnover=None),\n",
       " Stock(Date='2017-12-19', Open=52.73, High=52.73, Low=51.07, Close=51.66, Change=None, Traded_Volume=137313.0, Turnover=7102361.0, Last_Price_of_the_Day=None, Daily_Traded_Units=None, Daily_Turnover=None),\n",
       " Stock(Date='2017-12-18', Open=52.37, High=52.75, Low=51.61, Close=52.62, Change=None, Traded_Volume=129733.0, Turnover=6770499.0, Last_Price_of_the_Day=None, Daily_Traded_Units=None, Daily_Turnover=None),\n",
       " Stock(Date='2017-12-15', Open=52.7, High=52.7, Low=51.64, Close=52.01, Change=None, Traded_Volume=204080.0, Turnover=10596319.0, Last_Price_of_the_Day=None, Daily_Traded_Units=None, Daily_Turnover=None),\n",
       " Stock(Date='2017-12-14', Open=53.11, High=53.54, Low=52.15, Close=52.67, Change=None, Traded_Volume=132981.0, Turnover=7016953.0, Last_Price_of_the_Day=None, Daily_Traded_Units=None, Daily_Turnover=None),\n",
       " Stock(Date='2017-12-13', Open=52.64, High=53.35, Low=52.48, Close=53.09, Change=None, Traded_Volume=128434.0, Turnover=6801159.0, Last_Price_of_the_Day=None, Daily_Traded_Units=None, Daily_Turnover=None),\n",
       " Stock(Date='2017-12-12', Open=52.29, High=53.1, Low=51.82, Close=52.43, Change=None, Traded_Volume=87911.0, Turnover=4615924.0, Last_Price_of_the_Day=None, Daily_Traded_Units=None, Daily_Turnover=None),\n",
       " Stock(Date='2017-12-11', Open=52.28, High=52.45, Low=51.26, Close=52.14, Change=None, Traded_Volume=71817.0, Turnover=3724193.0, Last_Price_of_the_Day=None, Daily_Traded_Units=None, Daily_Turnover=None),\n",
       " Stock(Date='2017-12-08', Open=51.5, High=52.83, Low=51.28, Close=52.12, Change=None, Traded_Volume=109157.0, Turnover=5690648.0, Last_Price_of_the_Day=None, Daily_Traded_Units=None, Daily_Turnover=None),\n",
       " Stock(Date='2017-12-07', Open=50.89, High=51.47, Low=50.81, Close=51.47, Change=None, Traded_Volume=48123.0, Turnover=2463848.0, Last_Price_of_the_Day=None, Daily_Traded_Units=None, Daily_Turnover=None),\n",
       " Stock(Date='2017-12-06', Open=50.8, High=51.11, Low=50.39, Close=50.89, Change=None, Traded_Volume=88730.0, Turnover=4504075.0, Last_Price_of_the_Day=None, Daily_Traded_Units=None, Daily_Turnover=None),\n",
       " Stock(Date='2017-12-05', Open=51.21, High=51.38, Low=50.4, Close=51.25, Change=None, Traded_Volume=83023.0, Turnover=4231971.0, Last_Price_of_the_Day=None, Daily_Traded_Units=None, Daily_Turnover=None),\n",
       " Stock(Date='2017-12-04', Open=49.5, High=51.23, Low=49.5, Close=51.14, Change=None, Traded_Volume=94385.0, Turnover=4800027.0, Last_Price_of_the_Day=None, Daily_Traded_Units=None, Daily_Turnover=None),\n",
       " Stock(Date='2017-12-01', Open=49.52, High=50.49, Low=49.17, Close=49.86, Change=None, Traded_Volume=101733.0, Turnover=5065932.0, Last_Price_of_the_Day=None, Daily_Traded_Units=None, Daily_Turnover=None),\n",
       " Stock(Date='2017-11-30', Open=48.64, High=49.84, Low=48.28, Close=49.7, Change=None, Traded_Volume=123019.0, Turnover=6085171.0, Last_Price_of_the_Day=None, Daily_Traded_Units=None, Daily_Turnover=None)]"
      ]
     },
     "execution_count": 192,
     "metadata": {},
     "output_type": "execute_result"
    }
   ],
   "source": [
    "Stock_data = collections.namedtuple('Stock', columns)\n",
    "data = [Stock_data(*item) for item in values]\n",
    "data[0:20]"
   ]
  },
  {
   "cell_type": "markdown",
   "metadata": {},
   "source": [
    "#### 3. Calculate what the highest and lowest opening prices were for the stock in this period."
   ]
  },
  {
   "cell_type": "code",
   "execution_count": 193,
   "metadata": {},
   "outputs": [
    {
     "data": {
      "text/plain": [
       "[51.76, 51.65, 51.45, 51.05, 51.16, 51.88, 52.73, 52.37, 52.7, 53.11]"
      ]
     },
     "execution_count": 193,
     "metadata": {},
     "output_type": "execute_result"
    }
   ],
   "source": [
    "opening_prices = [item.Open for item in data]\n",
    "opening_prices = list(filter(None, opening_prices))\n",
    "opening_prices[0:10]"
   ]
  },
  {
   "cell_type": "code",
   "execution_count": 194,
   "metadata": {},
   "outputs": [
    {
     "data": {
      "text/plain": [
       "(53.11, 34.0)"
      ]
     },
     "execution_count": 194,
     "metadata": {},
     "output_type": "execute_result"
    }
   ],
   "source": [
    "max(opening_prices), min(opening_prices)"
   ]
  },
  {
   "cell_type": "markdown",
   "metadata": {},
   "source": [
    "#### 4. What was the largest change in any one day (based on High and Low price)?"
   ]
  },
  {
   "cell_type": "code",
   "execution_count": 195,
   "metadata": {},
   "outputs": [
    {
     "data": {
      "text/plain": [
       "[51.94, 51.82, 51.89, 51.5, 51.52, 52.04, 52.73, 52.75, 52.7, 53.54]"
      ]
     },
     "execution_count": 195,
     "metadata": {},
     "output_type": "execute_result"
    }
   ],
   "source": [
    "high_prices = [item.High for item in data]\n",
    "high_prices = list(filter(None, high_prices))\n",
    "high_prices[0:10]"
   ]
  },
  {
   "cell_type": "code",
   "execution_count": 196,
   "metadata": {},
   "outputs": [
    {
     "data": {
      "text/plain": [
       "[51.45, 51.43, 50.76, 50.92, 50.9, 51.2, 51.07, 51.61, 51.64, 52.15]"
      ]
     },
     "execution_count": 196,
     "metadata": {},
     "output_type": "execute_result"
    }
   ],
   "source": [
    "low_prices = [item.Low for item in data]\n",
    "low_prices = list(filter(None, low_prices))\n",
    "low_prices[0:10]"
   ]
  },
  {
   "cell_type": "code",
   "execution_count": 197,
   "metadata": {},
   "outputs": [
    {
     "data": {
      "text/plain": [
       "(255, 255)"
      ]
     },
     "execution_count": 197,
     "metadata": {},
     "output_type": "execute_result"
    }
   ],
   "source": [
    "len(high_prices), len(low_prices)"
   ]
  },
  {
   "cell_type": "code",
   "execution_count": 198,
   "metadata": {},
   "outputs": [
    {
     "data": {
      "text/plain": [
       "[0.4899999999999949,\n",
       " 0.39000000000000057,\n",
       " 1.1300000000000026,\n",
       " 0.5799999999999983,\n",
       " 0.6200000000000045,\n",
       " 0.8399999999999963,\n",
       " 1.6599999999999966,\n",
       " 1.1400000000000006,\n",
       " 1.0600000000000023,\n",
       " 1.3900000000000006]"
      ]
     },
     "execution_count": 198,
     "metadata": {},
     "output_type": "execute_result"
    }
   ],
   "source": [
    "difference = [abs(item.High - item.Low) for item in data]\n",
    "difference[0:10]"
   ]
  },
  {
   "cell_type": "code",
   "execution_count": 199,
   "metadata": {},
   "outputs": [
    {
     "data": {
      "text/plain": [
       "255"
      ]
     },
     "execution_count": 199,
     "metadata": {},
     "output_type": "execute_result"
    }
   ],
   "source": [
    "len(difference)"
   ]
  },
  {
   "cell_type": "code",
   "execution_count": 200,
   "metadata": {},
   "outputs": [
    {
     "data": {
      "text/plain": [
       "2.8100000000000023"
      ]
     },
     "execution_count": 200,
     "metadata": {},
     "output_type": "execute_result"
    }
   ],
   "source": [
    "max(difference)"
   ]
  },
  {
   "cell_type": "markdown",
   "metadata": {},
   "source": [
    "#### 5. What was the largest change between any two days (based on Closing Price)?"
   ]
  },
  {
   "cell_type": "code",
   "execution_count": 201,
   "metadata": {},
   "outputs": [
    {
     "data": {
      "text/plain": [
       "[51.76, 51.6, 51.82, 51.32, 51.4, 51.27, 51.66, 52.62, 52.01, 52.67]"
      ]
     },
     "execution_count": 201,
     "metadata": {},
     "output_type": "execute_result"
    }
   ],
   "source": [
    "closing_prices = [item.Close for item in data]\n",
    "closing_prices = list(filter(None, closing_prices))\n",
    "closing_prices[0:10]"
   ]
  },
  {
   "cell_type": "code",
   "execution_count": 202,
   "metadata": {},
   "outputs": [
    {
     "data": {
      "text/plain": [
       "[0.1599999999999966,\n",
       " 0.21999999999999886,\n",
       " 0.5,\n",
       " 0.0799999999999983,\n",
       " 0.12999999999999545,\n",
       " 0.38999999999999346,\n",
       " 0.9600000000000009,\n",
       " 0.6099999999999994,\n",
       " 0.6600000000000037,\n",
       " 0.4200000000000017]"
      ]
     },
     "execution_count": 202,
     "metadata": {},
     "output_type": "execute_result"
    }
   ],
   "source": [
    "length_prices = len(closing_prices)\n",
    "change = [abs(closing_prices[item]-closing_prices[item+1]) for item in range(length_prices-1)]\n",
    "change[0:10]"
   ]
  },
  {
   "cell_type": "code",
   "execution_count": 203,
   "metadata": {},
   "outputs": [
    {
     "data": {
      "text/plain": [
       "2.559999999999995"
      ]
     },
     "execution_count": 203,
     "metadata": {},
     "output_type": "execute_result"
    }
   ],
   "source": [
    "max(change)"
   ]
  },
  {
   "cell_type": "markdown",
   "metadata": {},
   "source": [
    "#### 6. What was the average daily trading volume during this year?"
   ]
  },
  {
   "cell_type": "code",
   "execution_count": 204,
   "metadata": {},
   "outputs": [
    {
     "name": "stdout",
     "output_type": "stream",
     "text": [
      "[34640.0, 40660.0, 57452.0, 71165.0, 120649.0, 50587.0, 137313.0, 129733.0, 204080.0, 132981.0]\n"
     ]
    }
   ],
   "source": [
    "trading_volume = [item.Traded_Volume for item in data]\n",
    "trading_volume = list(filter(None, trading_volume))\n",
    "print(trading_volume[0:10])"
   ]
  },
  {
   "cell_type": "code",
   "execution_count": 205,
   "metadata": {},
   "outputs": [
    {
     "data": {
      "text/plain": [
       "89124.33725490196"
      ]
     },
     "execution_count": 205,
     "metadata": {},
     "output_type": "execute_result"
    }
   ],
   "source": [
    "avg_trading_volume = sum(trading_volume)/len(trading_volume)\n",
    "avg_trading_volume"
   ]
  },
  {
   "cell_type": "markdown",
   "metadata": {},
   "source": [
    "#### 7. (Optional) What was the median trading volume during this year. (Note: you may need to implement your own function for calculating the median.)"
   ]
  },
  {
   "cell_type": "code",
   "execution_count": 206,
   "metadata": {},
   "outputs": [
    {
     "name": "stdout",
     "output_type": "stream",
     "text": [
      "[45.0, 112.0, 290.0, 522.0, 587.0, 686.0, 1081.0, 1945.0, 27507.0, 34640.0, 37014.0, 37958.0, 38308.0, 38518.0, 38834.0, 39195.0, 39731.0, 40660.0, 40705.0, 40800.0]\n"
     ]
    }
   ],
   "source": [
    "trading_volume.sort()\n",
    "print(trading_volume[:20])"
   ]
  },
  {
   "cell_type": "code",
   "execution_count": 207,
   "metadata": {},
   "outputs": [
    {
     "data": {
      "text/plain": [
       "255"
      ]
     },
     "execution_count": 207,
     "metadata": {},
     "output_type": "execute_result"
    }
   ],
   "source": [
    "len(trading_volume)"
   ]
  },
  {
   "cell_type": "code",
   "execution_count": 208,
   "metadata": {},
   "outputs": [],
   "source": [
    "def medianFunc(nums):\n",
    "    if len(nums) % 2 == 1:\n",
    "        median = sorted(nums)[len(nums)//2]\n",
    "    else:\n",
    "        median = (sorted(nums)[len(nums)//2] + sorted(nums)[len(nums)//2 - 1])/2\n",
    "    return print(\"The median trading volume is\", median)"
   ]
  },
  {
   "cell_type": "code",
   "execution_count": 209,
   "metadata": {},
   "outputs": [
    {
     "name": "stdout",
     "output_type": "stream",
     "text": [
      "The median trading volume is 76286.0\n"
     ]
    }
   ],
   "source": [
    "medianFunc(trading_volume)"
   ]
  },
  {
   "cell_type": "code",
   "execution_count": null,
   "metadata": {},
   "outputs": [],
   "source": []
  },
  {
   "cell_type": "code",
   "execution_count": null,
   "metadata": {},
   "outputs": [],
   "source": []
  }
 ],
 "metadata": {
  "kernelspec": {
   "display_name": "Python 3",
   "language": "python",
   "name": "python3"
  },
  "language_info": {
   "codemirror_mode": {
    "name": "ipython",
    "version": 3
   },
   "file_extension": ".py",
   "mimetype": "text/x-python",
   "name": "python",
   "nbconvert_exporter": "python",
   "pygments_lexer": "ipython3",
   "version": "3.7.4"
  }
 },
 "nbformat": 4,
 "nbformat_minor": 2
}
