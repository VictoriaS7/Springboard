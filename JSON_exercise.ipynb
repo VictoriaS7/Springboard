{
 "cells": [
  {
   "cell_type": "markdown",
   "metadata": {},
   "source": [
    "# JSON Exercise\n",
    "Using data in file 'data/world_bank_projects.json'\n",
    "****\n",
    "1. Find the 10 countries with most projects\n",
    "2. Find the top 10 major project themes (using column 'mjtheme_namecode')\n",
    "3. In 2. above you will notice that some entries have only the code and the name is missing. Create a dataframe with the missing names filled in.\n",
    "****"
   ]
  },
  {
   "cell_type": "code",
   "execution_count": 1,
   "metadata": {},
   "outputs": [],
   "source": [
    "import pandas as pd"
   ]
  },
  {
   "cell_type": "code",
   "execution_count": 2,
   "metadata": {},
   "outputs": [],
   "source": [
    "import json\n",
    "from pandas.io.json import json_normalize"
   ]
  },
  {
   "cell_type": "code",
   "execution_count": 3,
   "metadata": {},
   "outputs": [
    {
     "data": {
      "text/plain": [
       "list"
      ]
     },
     "execution_count": 3,
     "metadata": {},
     "output_type": "execute_result"
    }
   ],
   "source": [
    "# load json as string\n",
    "data = json.load((open('data/world_bank_projects.json')))\n",
    "type(data)"
   ]
  },
  {
   "cell_type": "code",
   "execution_count": 4,
   "metadata": {},
   "outputs": [
    {
     "data": {
      "text/plain": [
       "500"
      ]
     },
     "execution_count": 4,
     "metadata": {},
     "output_type": "execute_result"
    }
   ],
   "source": [
    "len(data)"
   ]
  },
  {
   "cell_type": "code",
   "execution_count": 5,
   "metadata": {},
   "outputs": [
    {
     "data": {
      "text/plain": [
       "[{'sector': [{'Name': 'Primary education'},\n",
       "   {'Name': 'Secondary education'},\n",
       "   {'Name': 'Public administration- Other social services'},\n",
       "   {'Name': 'Tertiary education'}],\n",
       "  'supplementprojectflg': 'N',\n",
       "  'projectfinancialtype': 'IDA',\n",
       "  'prodline': 'PE',\n",
       "  'mjtheme': ['Human development'],\n",
       "  'idacommamt': 130000000,\n",
       "  'impagency': 'MINISTRY OF EDUCATION',\n",
       "  'project_name': 'Ethiopia General Education Quality Improvement Project II',\n",
       "  'mjthemecode': '8,11',\n",
       "  'closingdate': '2018-07-07T00:00:00Z',\n",
       "  'totalcommamt': 130000000,\n",
       "  'id': 'P129828',\n",
       "  'mjsector_namecode': [{'code': 'EX', 'name': 'Education'},\n",
       "   {'code': 'EX', 'name': 'Education'},\n",
       "   {'code': 'BX', 'name': 'Public Administration, Law, and Justice'},\n",
       "   {'code': 'EX', 'name': 'Education'}],\n",
       "  'docty': 'Project Information Document,Indigenous Peoples Plan,Project Information Document',\n",
       "  'sector1': {'Percent': 46, 'Name': 'Primary education'},\n",
       "  'lendinginstr': 'Investment Project Financing',\n",
       "  'countrycode': 'ET',\n",
       "  'sector2': {'Percent': 26, 'Name': 'Secondary education'},\n",
       "  'totalamt': 130000000,\n",
       "  'mjtheme_namecode': [{'code': '8', 'name': 'Human development'},\n",
       "   {'code': '11', 'name': ''}],\n",
       "  'boardapprovaldate': '2013-11-12T00:00:00Z',\n",
       "  'countryshortname': 'Ethiopia',\n",
       "  'sector4': {'Percent': 12, 'Name': 'Tertiary education'},\n",
       "  'prodlinetext': 'IBRD/IDA',\n",
       "  'productlinetype': 'L',\n",
       "  'regionname': 'Africa',\n",
       "  'status': 'Active',\n",
       "  'country_namecode': 'Federal Democratic Republic of Ethiopia!$!ET',\n",
       "  'envassesmentcategorycode': 'C',\n",
       "  'project_abstract': {'cdata': 'The development objective of the Second Phase of General Education Quality Improvement Project for Ethiopia is to improve learning conditions in primary and secondary schools and strengthen institutions at different levels of educational administration. The project has six components. The first component is curriculum, textbooks, assessment, examinations, and inspection. This component will support improvement of learning conditions in grades KG-12 by providing increased access to teaching and learning materials and through improvements to the curriculum by assessing the strengths and weaknesses of the current curriculum. This component has following four sub-components: (i) curriculum reform and implementation; (ii) teaching and learning materials; (iii) assessment and examinations; and (iv) inspection. The second component is teacher development program (TDP). This component will support improvements in learning conditions in both primary and secondary schools by advancing the quality of teaching in general education through: (a) enhancing the training of pre-service teachers in teacher education institutions; and (b) improving the quality of in-service teacher training. This component has following three sub-components: (i) pre-service teacher training; (ii) in-service teacher training; and (iii) licensing and relicensing of teachers and school leaders. The third component is school improvement plan. This component will support the strengthening of school planning in order to improve learning outcomes, and to partly fund the school improvement plans through school grants. It has following two sub-components: (i) school improvement plan; and (ii) school grants. The fourth component is management and capacity building, including education management information systems (EMIS). This component will support management and capacity building aspect of the project. This component has following three sub-components: (i) capacity building for education planning and management; (ii) capacity building for school planning and management; and (iii) EMIS. The fifth component is improving the quality of learning and teaching in secondary schools and universities through the use of information and communications technology (ICT). It has following five sub-components: (i) national policy and institution for ICT in general education; (ii) national ICT infrastructure improvement plan for general education; (iii) develop an integrated monitoring, evaluation, and learning system specifically for the ICT component; (iv) teacher professional development in the use of ICT; and (v) provision of limited number of e-Braille display readers with the possibility to scale up to all secondary education schools based on the successful implementation and usage of the readers. The sixth component is program coordination, monitoring and evaluation, and communication. It will support institutional strengthening by developing capacities in all aspects of program coordination, monitoring and evaluation; a new sub-component on communications will support information sharing for better management and accountability. It has following three sub-components: (i) program coordination; (ii) monitoring and evaluation (M and E); and (iii) communication.'},\n",
       "  'approvalfy': 1999,\n",
       "  'projectdocs': [{'DocDate': '28-AUG-2013',\n",
       "    'EntityID': '090224b081e545fb_1_0',\n",
       "    'DocURL': 'http://www-wds.worldbank.org/servlet/WDSServlet?pcont=details&eid=090224b081e545fb_1_0',\n",
       "    'DocType': 'PID',\n",
       "    'DocTypeDesc': 'Project Information Document (PID),  Vol.'},\n",
       "   {'DocDate': '01-JUL-2013',\n",
       "    'EntityID': '000442464_20130920111729',\n",
       "    'DocURL': 'http://www-wds.worldbank.org/servlet/WDSServlet?pcont=details&eid=000442464_20130920111729',\n",
       "    'DocType': 'IP',\n",
       "    'DocTypeDesc': 'Indigenous Peoples Plan (IP),  Vol.1 of 1'},\n",
       "   {'DocDate': '22-NOV-2012',\n",
       "    'EntityID': '090224b0817b19e2_1_0',\n",
       "    'DocURL': 'http://www-wds.worldbank.org/servlet/WDSServlet?pcont=details&eid=090224b0817b19e2_1_0',\n",
       "    'DocType': 'PID',\n",
       "    'DocTypeDesc': 'Project Information Document (PID),  Vol.'}],\n",
       "  'lendprojectcost': 550000000,\n",
       "  'lendinginstrtype': 'IN',\n",
       "  'theme1': {'Percent': 100, 'Name': 'Education for all'},\n",
       "  'grantamt': 0,\n",
       "  'themecode': '65',\n",
       "  'borrower': 'FEDERAL DEMOCRATIC REPUBLIC OF ETHIOPIA',\n",
       "  'sectorcode': 'ET,BS,ES,EP',\n",
       "  'sector3': {'Percent': 16,\n",
       "   'Name': 'Public administration- Other social services'},\n",
       "  'majorsector_percent': [{'Percent': 46, 'Name': 'Education'},\n",
       "   {'Percent': 26, 'Name': 'Education'},\n",
       "   {'Percent': 16, 'Name': 'Public Administration, Law, and Justice'},\n",
       "   {'Percent': 12, 'Name': 'Education'}],\n",
       "  'board_approval_month': 'November',\n",
       "  'theme_namecode': [{'code': '65', 'name': 'Education for all'}],\n",
       "  'countryname': 'Federal Democratic Republic of Ethiopia',\n",
       "  'url': 'http://www.worldbank.org/projects/P129828/ethiopia-general-education-quality-improvement-project-ii?lang=en',\n",
       "  'source': 'IBRD',\n",
       "  'projectstatusdisplay': 'Active',\n",
       "  'ibrdcommamt': 0,\n",
       "  'sector_namecode': [{'code': 'EP', 'name': 'Primary education'},\n",
       "   {'code': 'ES', 'name': 'Secondary education'},\n",
       "   {'code': 'BS', 'name': 'Public administration- Other social services'},\n",
       "   {'code': 'ET', 'name': 'Tertiary education'}],\n",
       "  '_id': {'$oid': '52b213b38594d8a2be17c780'}},\n",
       " {'sector': [{'Name': 'Public administration- Other social services'},\n",
       "   {'Name': 'General public administration sector'}],\n",
       "  'supplementprojectflg': 'N',\n",
       "  'projectfinancialtype': 'OTHER',\n",
       "  'prodline': 'RE',\n",
       "  'mjtheme': ['Economic management', 'Social protection and risk management'],\n",
       "  'idacommamt': 0,\n",
       "  'impagency': 'MINISTRY OF FINANCE',\n",
       "  'project_name': 'TN: DTF Social Protection Reforms Support',\n",
       "  'mjthemecode': '1,6',\n",
       "  'totalcommamt': 4700000,\n",
       "  'id': 'P144674',\n",
       "  'mjsector_namecode': [{'code': 'BX',\n",
       "    'name': 'Public Administration, Law, and Justice'},\n",
       "   {'code': 'BX', 'name': 'Public Administration, Law, and Justice'}],\n",
       "  'docty': 'Project Information Document,Integrated Safeguards Data Sheet,Integrated Safeguards Data Sheet,Project Information Document,Integrated Safeguards Data Sheet,Project Information Document',\n",
       "  'sector1': {'Percent': 70,\n",
       "   'Name': 'Public administration- Other social services'},\n",
       "  'lendinginstr': 'Specific Investment Loan',\n",
       "  'countrycode': 'TN',\n",
       "  'sector2': {'Percent': 30, 'Name': 'General public administration sector'},\n",
       "  'totalamt': 0,\n",
       "  'mjtheme_namecode': [{'code': '1', 'name': 'Economic management'},\n",
       "   {'code': '6', 'name': 'Social protection and risk management'}],\n",
       "  'boardapprovaldate': '2013-11-04T00:00:00Z',\n",
       "  'countryshortname': 'Tunisia',\n",
       "  'source': 'IBRD',\n",
       "  'prodlinetext': 'Recipient Executed Activities',\n",
       "  'productlinetype': 'L',\n",
       "  'regionname': 'Middle East and North Africa',\n",
       "  'status': 'Active',\n",
       "  'country_namecode': 'Republic of Tunisia!$!TN',\n",
       "  'envassesmentcategorycode': 'C',\n",
       "  'approvalfy': 2015,\n",
       "  'projectdocs': [{'DocDate': '29-MAR-2013',\n",
       "    'EntityID': '000333037_20131024115616',\n",
       "    'DocURL': 'http://www-wds.worldbank.org/servlet/WDSServlet?pcont=details&eid=000333037_20131024115616',\n",
       "    'DocType': 'PID',\n",
       "    'DocTypeDesc': 'Project Information Document (PID),  Vol.1 of 1'},\n",
       "   {'DocDate': '29-MAR-2013',\n",
       "    'EntityID': '000356161_20131024151611',\n",
       "    'DocURL': 'http://www-wds.worldbank.org/servlet/WDSServlet?pcont=details&eid=000356161_20131024151611',\n",
       "    'DocType': 'ISDS',\n",
       "    'DocTypeDesc': 'Integrated Safeguards Data Sheet (ISDS),  Vol.1 of 1'},\n",
       "   {'DocDate': '29-MAR-2013',\n",
       "    'EntityID': '000442464_20131031112136',\n",
       "    'DocURL': 'http://www-wds.worldbank.org/servlet/WDSServlet?pcont=details&eid=000442464_20131031112136',\n",
       "    'DocType': 'ISDS',\n",
       "    'DocTypeDesc': 'Integrated Safeguards Data Sheet (ISDS),  Vol.1 of 1'},\n",
       "   {'DocDate': '29-MAR-2013',\n",
       "    'EntityID': '000333037_20131031105716',\n",
       "    'DocURL': 'http://www-wds.worldbank.org/servlet/WDSServlet?pcont=details&eid=000333037_20131031105716',\n",
       "    'DocType': 'PID',\n",
       "    'DocTypeDesc': 'Project Information Document (PID),  Vol.1 of 1'},\n",
       "   {'DocDate': '16-JAN-2013',\n",
       "    'EntityID': '000356161_20130305113209',\n",
       "    'DocURL': 'http://www-wds.worldbank.org/servlet/WDSServlet?pcont=details&eid=000356161_20130305113209',\n",
       "    'DocType': 'ISDS',\n",
       "    'DocTypeDesc': 'Integrated Safeguards Data Sheet (ISDS),  Vol.1 of 1'},\n",
       "   {'DocDate': '16-JAN-2013',\n",
       "    'EntityID': '000356161_20130305113716',\n",
       "    'DocURL': 'http://www-wds.worldbank.org/servlet/WDSServlet?pcont=details&eid=000356161_20130305113716',\n",
       "    'DocType': 'PID',\n",
       "    'DocTypeDesc': 'Project Information Document (PID),  Vol.1 of 1'}],\n",
       "  'lendprojectcost': 5700000,\n",
       "  'lendinginstrtype': 'IN',\n",
       "  'theme1': {'Percent': 30, 'Name': 'Other economic management'},\n",
       "  'grantamt': 4700000,\n",
       "  'themecode': '54,24',\n",
       "  'borrower': 'GOVERNMENT OF TUNISIA',\n",
       "  'sectorcode': 'BZ,BS',\n",
       "  'majorsector_percent': [{'Percent': 70,\n",
       "    'Name': 'Public Administration, Law, and Justice'},\n",
       "   {'Percent': 30, 'Name': 'Public Administration, Law, and Justice'}],\n",
       "  'board_approval_month': 'November',\n",
       "  'theme_namecode': [{'code': '24', 'name': 'Other economic management'},\n",
       "   {'code': '54', 'name': 'Social safety nets'}],\n",
       "  'countryname': 'Republic of Tunisia',\n",
       "  'url': 'http://www.worldbank.org/projects/P144674?lang=en',\n",
       "  'projectstatusdisplay': 'Active',\n",
       "  'ibrdcommamt': 0,\n",
       "  'sector_namecode': [{'code': 'BS',\n",
       "    'name': 'Public administration- Other social services'},\n",
       "   {'code': 'BZ', 'name': 'General public administration sector'}],\n",
       "  '_id': {'$oid': '52b213b38594d8a2be17c781'}}]"
      ]
     },
     "execution_count": 5,
     "metadata": {},
     "output_type": "execute_result"
    }
   ],
   "source": [
    "data[:2]"
   ]
  },
  {
   "cell_type": "code",
   "execution_count": 6,
   "metadata": {},
   "outputs": [
    {
     "name": "stdout",
     "output_type": "stream",
     "text": [
      "                                                sector supplementprojectflg  \\\n",
      "0    [{'Name': 'Primary education'}, {'Name': 'Seco...                    N   \n",
      "1    [{'Name': 'Public administration- Other social...                    N   \n",
      "2    [{'Name': 'Rural and Inter-Urban Roads and Hig...                    Y   \n",
      "3                  [{'Name': 'Other social services'}]                    N   \n",
      "4    [{'Name': 'General industry and trade sector'}...                    N   \n",
      "..                                                 ...                  ...   \n",
      "495  [{'Name': 'General agriculture, fishing and fo...                    N   \n",
      "496  [{'Name': 'Central government administration'}...                    N   \n",
      "497  [{'Name': 'Irrigation and drainage'}, {'Name':...                    N   \n",
      "498  [{'Name': 'Agricultural extension and research...                    N   \n",
      "499  [{'Name': 'Urban Transport'}, {'Name': 'Public...                    N   \n",
      "\n",
      "    projectfinancialtype prodline  \\\n",
      "0                    IDA       PE   \n",
      "1                  OTHER       RE   \n",
      "2                    IDA       PE   \n",
      "3                  OTHER       RE   \n",
      "4                    IDA       PE   \n",
      "..                   ...      ...   \n",
      "495                OTHER       RE   \n",
      "496                  IDA       PE   \n",
      "497                OTHER       RE   \n",
      "498                 IBRD       PE   \n",
      "499                  IDA       PE   \n",
      "\n",
      "                                               mjtheme  idacommamt  \\\n",
      "0                                  [Human development]   130000000   \n",
      "1    [Economic management, Social protection and ri...           0   \n",
      "2    [Trade and integration, Public sector governan...     6060000   \n",
      "3    [Social dev/gender/inclusion, Social dev/gende...           0   \n",
      "4    [Trade and integration, Financial and private ...    13100000   \n",
      "..                                                 ...         ...   \n",
      "495  [Financial and private sector development, Soc...           0   \n",
      "496  [Human development, Trade and integration, Pub...    20000000   \n",
      "497                                [Rural development]           0   \n",
      "498  [Rural development, Rural development, Rural d...           0   \n",
      "499  [Urban development, Human development, Trade a...   300000000   \n",
      "\n",
      "                                             impagency  \\\n",
      "0                                MINISTRY OF EDUCATION   \n",
      "1                                  MINISTRY OF FINANCE   \n",
      "2             MINISTRY OF TRANSPORT AND COMMUNICATIONS   \n",
      "3             LABOR INTENSIVE PUBLIC WORKS PROJECT PMU   \n",
      "4                       MINISTRY OF TRADE AND INDUSTRY   \n",
      "..                                                 ...   \n",
      "495                        THE COMPETITIVENESS COMPANY   \n",
      "496                                MINISTRY OF FINANCE   \n",
      "497  MINISTRY OF AGRICULTURE AND PRODUCER ORGANISAT...   \n",
      "498  INDONESIAN AGENCY FOR AGRICULTURAL RESEARCH AN...   \n",
      "499                                  MINISTRY OF ROADS   \n",
      "\n",
      "                                          project_name mjthemecode  \\\n",
      "0    Ethiopia General Education Quality Improvement...        8,11   \n",
      "1            TN: DTF Social Protection Reforms Support         1,6   \n",
      "2    Tuvalu Aviation Investment Project - Additiona...    5,2,11,6   \n",
      "3     Gov't and Civil Society Organization Partnership         7,7   \n",
      "4    Second Private Sector Competitiveness and Econ...         5,4   \n",
      "..                                                 ...         ...   \n",
      "495  Technological Scale Up for Youth-led Urban Orn...         4,7   \n",
      "496                Lao Eight Poverty Reduction Support     8,5,2,8   \n",
      "497  Second Emergency Agricultural Productivity Sup...        10,6   \n",
      "498  Sustainable Management of Agricultural Researc...    10,10,10   \n",
      "499  KENYA: NATIONAL URBAN TRANSPORT IMPROVEMENT PR...     9,8,5,4   \n",
      "\n",
      "              closingdate  ...  \\\n",
      "0    2018-07-07T00:00:00Z  ...   \n",
      "1                     NaN  ...   \n",
      "2                     NaN  ...   \n",
      "3                     NaN  ...   \n",
      "4    2019-04-30T00:00:00Z  ...   \n",
      "..                    ...  ...   \n",
      "495  2013-08-31T00:00:00Z  ...   \n",
      "496  2012-12-31T00:00:00Z  ...   \n",
      "497  2014-12-31T00:00:00Z  ...   \n",
      "498  2017-09-30T00:00:00Z  ...   \n",
      "499  2018-12-31T00:00:00Z  ...   \n",
      "\n",
      "                                   majorsector_percent board_approval_month  \\\n",
      "0    [{'Percent': 46, 'Name': 'Education'}, {'Perce...             November   \n",
      "1    [{'Percent': 70, 'Name': 'Public Administratio...             November   \n",
      "2         [{'Percent': 100, 'Name': 'Transportation'}]             November   \n",
      "3    [{'Percent': 100, 'Name': 'Health and other so...              October   \n",
      "4    [{'Percent': 50, 'Name': 'Industry and trade'}...              October   \n",
      "..                                                 ...                  ...   \n",
      "495  [{'Percent': 50, 'Name': 'Agriculture, fishing...               August   \n",
      "496  [{'Percent': 36, 'Name': 'Public Administratio...               August   \n",
      "497  [{'Percent': 40, 'Name': 'Agriculture, fishing...               August   \n",
      "498  [{'Percent': 80, 'Name': 'Agriculture, fishing...               August   \n",
      "499  [{'Percent': 79, 'Name': 'Transportation'}, {'...               August   \n",
      "\n",
      "                                        theme_namecode  \\\n",
      "0        [{'code': '65', 'name': 'Education for all'}]   \n",
      "1    [{'code': '24', 'name': 'Other economic manage...   \n",
      "2    [{'code': '47', 'name': 'Regional integration'...   \n",
      "3    [{'code': '57', 'name': 'Participation and civ...   \n",
      "4    [{'code': '45', 'name': 'Export development an...   \n",
      "..                                                 ...   \n",
      "495  [{'code': '40', 'name': 'Regulation and compet...   \n",
      "496  [{'code': '63', 'name': 'Child health'}, {'cod...   \n",
      "497  [{'code': '91', 'name': 'Global food crisis re...   \n",
      "498  [{'code': '78', 'name': 'Rural services and in...   \n",
      "499  [{'code': '73', 'name': 'Municipal governance ...   \n",
      "\n",
      "                                 countryname  \\\n",
      "0    Federal Democratic Republic of Ethiopia   \n",
      "1                        Republic of Tunisia   \n",
      "2                                     Tuvalu   \n",
      "3                          Republic of Yemen   \n",
      "4                         Kingdom of Lesotho   \n",
      "..                                       ...   \n",
      "495                                  Jamaica   \n",
      "496         Lao People's Democratic Republic   \n",
      "497                       Republic of Guinea   \n",
      "498                    Republic of Indonesia   \n",
      "499                        Republic of Kenya   \n",
      "\n",
      "                                                   url source  \\\n",
      "0    http://www.worldbank.org/projects/P129828/ethi...   IBRD   \n",
      "1    http://www.worldbank.org/projects/P144674?lang=en   IBRD   \n",
      "2    http://www.worldbank.org/projects/P145310?lang=en   IBRD   \n",
      "3    http://www.worldbank.org/projects/P144665?lang=en   IBRD   \n",
      "4    http://www.worldbank.org/projects/P144933/seco...   IBRD   \n",
      "..                                                 ...    ...   \n",
      "495  http://www.worldbank.org/projects/P127299/tech...   IBRD   \n",
      "496  http://www.worldbank.org/projects/P125298/lao-...   IBRD   \n",
      "497  http://www.worldbank.org/projects/P128309/seco...   IBRD   \n",
      "498  http://www.worldbank.org/projects/P117243/sust...   IBRD   \n",
      "499  http://www.worldbank.org/projects/P126321/keny...   IBRD   \n",
      "\n",
      "    projectstatusdisplay ibrdcommamt  \\\n",
      "0                 Active           0   \n",
      "1                 Active           0   \n",
      "2                 Active           0   \n",
      "3                 Active           0   \n",
      "4                 Active           0   \n",
      "..                   ...         ...   \n",
      "495               Closed           0   \n",
      "496               Closed           0   \n",
      "497               Active           0   \n",
      "498               Active    80000000   \n",
      "499               Active           0   \n",
      "\n",
      "                                       sector_namecode  \\\n",
      "0    [{'code': 'EP', 'name': 'Primary education'}, ...   \n",
      "1    [{'code': 'BS', 'name': 'Public administration...   \n",
      "2    [{'code': 'TI', 'name': 'Rural and Inter-Urban...   \n",
      "3    [{'code': 'JB', 'name': 'Other social services'}]   \n",
      "4    [{'code': 'YZ', 'name': 'General industry and ...   \n",
      "..                                                 ...   \n",
      "495  [{'code': 'AZ', 'name': 'General agriculture, ...   \n",
      "496  [{'code': 'BC', 'name': 'Central government ad...   \n",
      "497  [{'code': 'AI', 'name': 'Irrigation and draina...   \n",
      "498  [{'code': 'AB', 'name': 'Agricultural extensio...   \n",
      "499  [{'code': 'TC', 'name': 'Urban Transport'}, {'...   \n",
      "\n",
      "                                      _id  \n",
      "0    {'$oid': '52b213b38594d8a2be17c780'}  \n",
      "1    {'$oid': '52b213b38594d8a2be17c781'}  \n",
      "2    {'$oid': '52b213b38594d8a2be17c782'}  \n",
      "3    {'$oid': '52b213b38594d8a2be17c783'}  \n",
      "4    {'$oid': '52b213b38594d8a2be17c784'}  \n",
      "..                                    ...  \n",
      "495  {'$oid': '52b213b38594d8a2be17c96f'}  \n",
      "496  {'$oid': '52b213b38594d8a2be17c970'}  \n",
      "497  {'$oid': '52b213b38594d8a2be17c971'}  \n",
      "498  {'$oid': '52b213b38594d8a2be17c972'}  \n",
      "499  {'$oid': '52b213b38594d8a2be17c973'}  \n",
      "\n",
      "[500 rows x 50 columns]\n"
     ]
    }
   ],
   "source": [
    "# Load as Pandas dataframe\n",
    "json_df = pd.read_json('data/world_bank_projects.json')\n",
    "print(json_df)"
   ]
  },
  {
   "cell_type": "code",
   "execution_count": 7,
   "metadata": {},
   "outputs": [
    {
     "data": {
      "text/plain": [
       "pandas.core.frame.DataFrame"
      ]
     },
     "execution_count": 7,
     "metadata": {},
     "output_type": "execute_result"
    }
   ],
   "source": [
    "type(json_normalize(data))"
   ]
  },
  {
   "cell_type": "markdown",
   "metadata": {},
   "source": [
    "### 1. Find the 10 countries with most projects"
   ]
  },
  {
   "cell_type": "code",
   "execution_count": 8,
   "metadata": {},
   "outputs": [
    {
     "name": "stdout",
     "output_type": "stream",
     "text": [
      "     code                                      name  \\\n",
      "0       8                         Human development   \n",
      "1      11                                             \n",
      "2       1                       Economic management   \n",
      "3       6     Social protection and risk management   \n",
      "4       5                     Trade and integration   \n",
      "...   ...                                       ...   \n",
      "1494   10                         Rural development   \n",
      "1495    9                         Urban development   \n",
      "1496    8                         Human development   \n",
      "1497    5                     Trade and integration   \n",
      "1498    4  Financial and private sector development   \n",
      "\n",
      "                                  countryname  \n",
      "0     Federal Democratic Republic of Ethiopia  \n",
      "1     Federal Democratic Republic of Ethiopia  \n",
      "2                         Republic of Tunisia  \n",
      "3                         Republic of Tunisia  \n",
      "4                                      Tuvalu  \n",
      "...                                       ...  \n",
      "1494                    Republic of Indonesia  \n",
      "1495                        Republic of Kenya  \n",
      "1496                        Republic of Kenya  \n",
      "1497                        Republic of Kenya  \n",
      "1498                        Republic of Kenya  \n",
      "\n",
      "[1499 rows x 3 columns]\n"
     ]
    }
   ],
   "source": [
    "df_countries = json_normalize(data, 'mjtheme_namecode',['countryname'])\n",
    "print(df_countries)"
   ]
  },
  {
   "cell_type": "code",
   "execution_count": 9,
   "metadata": {},
   "outputs": [
    {
     "data": {
      "text/plain": [
       "pandas.core.frame.DataFrame"
      ]
     },
     "execution_count": 9,
     "metadata": {},
     "output_type": "execute_result"
    }
   ],
   "source": [
    "type(df_countries)"
   ]
  },
  {
   "cell_type": "markdown",
   "metadata": {},
   "source": [
    "#### Top 10 Countries with most projects:"
   ]
  },
  {
   "cell_type": "code",
   "execution_count": 10,
   "metadata": {},
   "outputs": [
    {
     "name": "stdout",
     "output_type": "stream",
     "text": [
      "Republic of Indonesia              56\n",
      "Republic of India                  51\n",
      "Socialist Republic of Vietnam      43\n",
      "People's Republic of Bangladesh    41\n",
      "Federative Republic of Brazil      41\n",
      "People's Republic of China         40\n",
      "Africa                             39\n",
      "Republic of Yemen                  34\n",
      "Kingdom of Morocco                 32\n",
      "Republic of Mozambique             31\n",
      "Name: countryname, dtype: int64\n"
     ]
    }
   ],
   "source": [
    "print(df_countries['countryname'].value_counts(dropna=False).head(10))"
   ]
  },
  {
   "cell_type": "markdown",
   "metadata": {},
   "source": [
    "### 2. Find the top 10 major project themes (using column 'mjtheme_namecode')"
   ]
  },
  {
   "cell_type": "code",
   "execution_count": 11,
   "metadata": {},
   "outputs": [
    {
     "name": "stdout",
     "output_type": "stream",
     "text": [
      "     code                                      name\n",
      "0       8                         Human development\n",
      "1      11                                          \n",
      "2       1                       Economic management\n",
      "3       6     Social protection and risk management\n",
      "4       5                     Trade and integration\n",
      "...   ...                                       ...\n",
      "1494   10                         Rural development\n",
      "1495    9                         Urban development\n",
      "1496    8                         Human development\n",
      "1497    5                     Trade and integration\n",
      "1498    4  Financial and private sector development\n",
      "\n",
      "[1499 rows x 2 columns]\n"
     ]
    }
   ],
   "source": [
    "df_projects = json_normalize(data, 'mjtheme_namecode')\n",
    "print(df_projects)"
   ]
  },
  {
   "cell_type": "markdown",
   "metadata": {},
   "source": [
    "#### Top 10 major project themes:"
   ]
  },
  {
   "cell_type": "code",
   "execution_count": 12,
   "metadata": {},
   "outputs": [
    {
     "name": "stdout",
     "output_type": "stream",
     "text": [
      "Environment and natural resources management    223\n",
      "Rural development                               202\n",
      "Human development                               197\n",
      "Public sector governance                        184\n",
      "Social protection and risk management           158\n",
      "Financial and private sector development        130\n",
      "                                                122\n",
      "Social dev/gender/inclusion                     119\n",
      "Trade and integration                            72\n",
      "Urban development                                47\n",
      "Name: name, dtype: int64\n"
     ]
    }
   ],
   "source": [
    "print(df_projects['name'].value_counts(dropna=False).head(10))"
   ]
  },
  {
   "cell_type": "code",
   "execution_count": 13,
   "metadata": {},
   "outputs": [
    {
     "name": "stdout",
     "output_type": "stream",
     "text": [
      "Top 10 major project themes by code:\n",
      "11    250\n",
      "10    216\n",
      "8     210\n",
      "2     199\n",
      "6     168\n",
      "4     146\n",
      "7     130\n",
      "5      77\n",
      "9      50\n",
      "1      38\n",
      "Name: code, dtype: int64\n"
     ]
    }
   ],
   "source": [
    "# There are 122 values with missing project names\n",
    "# The 'code' column doesn't have missing values\n",
    "# Therefore, using 'code' column will give us more accurate count of the top 10 project themes\n",
    "print('Top 10 major project themes by code:')\n",
    "print(df_projects['code'].value_counts(dropna=False).head(10))"
   ]
  },
  {
   "cell_type": "markdown",
   "metadata": {},
   "source": [
    "### 3. In 2. above you will notice that some entries have only the code and the name is missing. Create a dataframe with the missing names filled in."
   ]
  },
  {
   "cell_type": "code",
   "execution_count": 14,
   "metadata": {},
   "outputs": [
    {
     "name": "stdout",
     "output_type": "stream",
     "text": [
      "     code                 name\n",
      "2       1  Economic management\n",
      "88      1  Economic management\n",
      "175     1  Economic management\n",
      "204     1  Economic management\n",
      "205     1  Economic management\n",
      "220     1  Economic management\n",
      "222     1  Economic management\n",
      "223     1  Economic management\n",
      "249     1  Economic management\n",
      "357     1  Economic management\n",
      "453     1  Economic management\n",
      "454     1  Economic management\n",
      "458     1  Economic management\n",
      "497     1  Economic management\n",
      "647     1  Economic management\n",
      "648     1  Economic management\n",
      "784     1  Economic management\n",
      "803     1  Economic management\n",
      "841     1  Economic management\n",
      "900     1  Economic management\n",
      "1010    1  Economic management\n",
      "1045    1  Economic management\n",
      "1056    1  Economic management\n",
      "1057    1  Economic management\n",
      "1078    1  Economic management\n",
      "1206    1  Economic management\n",
      "1212    1  Economic management\n",
      "1218    1  Economic management\n",
      "1229    1  Economic management\n",
      "1230    1  Economic management\n",
      "1235    1  Economic management\n",
      "1257    1  Economic management\n",
      "1260    1  Economic management\n",
      "212     1                     \n",
      "363     1                     \n",
      "1024    1                     \n",
      "1114    1                     \n",
      "1437    1                     \n",
      "18     10    Rural development\n",
      "23     10    Rural development\n",
      "25     10    Rural development\n",
      "32     10    Rural development\n",
      "36     10    Rural development\n",
      "39     10    Rural development\n",
      "59     10    Rural development\n",
      "60     10    Rural development\n",
      "61     10    Rural development\n",
      "74     10    Rural development\n",
      "75     10    Rural development\n",
      "95     10    Rural development\n"
     ]
    }
   ],
   "source": [
    "projects_sorted = df_projects.sort_values(by=['code','name'], ascending=[True, False]).copy()\n",
    "print(projects_sorted.head(50))"
   ]
  },
  {
   "cell_type": "code",
   "execution_count": 15,
   "metadata": {},
   "outputs": [
    {
     "name": "stdout",
     "output_type": "stream",
     "text": [
      "     code                 name\n",
      "2       1  Economic management\n",
      "88      1  Economic management\n",
      "175     1  Economic management\n",
      "204     1  Economic management\n",
      "205     1  Economic management\n",
      "220     1  Economic management\n",
      "222     1  Economic management\n",
      "223     1  Economic management\n",
      "249     1  Economic management\n",
      "357     1  Economic management\n",
      "453     1  Economic management\n",
      "454     1  Economic management\n",
      "458     1  Economic management\n",
      "497     1  Economic management\n",
      "647     1  Economic management\n",
      "648     1  Economic management\n",
      "784     1  Economic management\n",
      "803     1  Economic management\n",
      "841     1  Economic management\n",
      "900     1  Economic management\n",
      "1010    1  Economic management\n",
      "1045    1  Economic management\n",
      "1056    1  Economic management\n",
      "1057    1  Economic management\n",
      "1078    1  Economic management\n",
      "1206    1  Economic management\n",
      "1212    1  Economic management\n",
      "1218    1  Economic management\n",
      "1229    1  Economic management\n",
      "1230    1  Economic management\n",
      "1235    1  Economic management\n",
      "1257    1  Economic management\n",
      "1260    1  Economic management\n",
      "212     1  Economic management\n",
      "363     1  Economic management\n",
      "1024    1  Economic management\n",
      "1114    1  Economic management\n",
      "1437    1  Economic management\n",
      "18     10    Rural development\n",
      "23     10    Rural development\n",
      "25     10    Rural development\n",
      "32     10    Rural development\n",
      "36     10    Rural development\n",
      "39     10    Rural development\n",
      "59     10    Rural development\n",
      "60     10    Rural development\n",
      "61     10    Rural development\n",
      "74     10    Rural development\n",
      "75     10    Rural development\n",
      "95     10    Rural development\n"
     ]
    }
   ],
   "source": [
    "projects_sorted_filled = projects_sorted.replace(\"\", None).ffill(axis = 0)\n",
    "print(projects_sorted_filled.head(50))"
   ]
  },
  {
   "cell_type": "code",
   "execution_count": 16,
   "metadata": {},
   "outputs": [
    {
     "name": "stdout",
     "output_type": "stream",
     "text": [
      "     code                 name\n",
      "2       1  Economic management\n",
      "88      1  Economic management\n",
      "175     1  Economic management\n",
      "204     1  Economic management\n",
      "205     1  Economic management\n",
      "...   ...                  ...\n",
      "1473    9    Urban development\n",
      "1495    9    Urban development\n",
      "333     9    Urban development\n",
      "460     9    Urban development\n",
      "471     9    Urban development\n",
      "\n",
      "[1499 rows x 2 columns]\n"
     ]
    }
   ],
   "source": [
    "print(projects_sorted_filled)"
   ]
  },
  {
   "cell_type": "code",
   "execution_count": 17,
   "metadata": {},
   "outputs": [
    {
     "name": "stdout",
     "output_type": "stream",
     "text": [
      "Environment and natural resources management    250\n",
      "Rural development                               216\n",
      "Human development                               210\n",
      "Public sector governance                        199\n",
      "Social protection and risk management           168\n",
      "Financial and private sector development        146\n",
      "Social dev/gender/inclusion                     130\n",
      "Trade and integration                            77\n",
      "Urban development                                50\n",
      "Economic management                              38\n",
      "Name: name, dtype: int64\n"
     ]
    }
   ],
   "source": [
    "# Now we can get a better answer for #2 from above, since all the missing names are filled\n",
    "print(projects_sorted_filled['name'].value_counts(dropna=False).head(10))"
   ]
  },
  {
   "cell_type": "code",
   "execution_count": null,
   "metadata": {},
   "outputs": [],
   "source": []
  },
  {
   "cell_type": "code",
   "execution_count": null,
   "metadata": {},
   "outputs": [],
   "source": []
  }
 ],
 "metadata": {
  "kernelspec": {
   "display_name": "Python 3",
   "language": "python",
   "name": "python3"
  },
  "language_info": {
   "codemirror_mode": {
    "name": "ipython",
    "version": 3
   },
   "file_extension": ".py",
   "mimetype": "text/x-python",
   "name": "python",
   "nbconvert_exporter": "python",
   "pygments_lexer": "ipython3",
   "version": "3.7.4"
  }
 },
 "nbformat": 4,
 "nbformat_minor": 2
}
